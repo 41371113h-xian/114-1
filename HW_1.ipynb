{
  "nbformat": 4,
  "nbformat_minor": 0,
  "metadata": {
    "colab": {
      "provenance": [],
      "authorship_tag": "ABX9TyOX6Qw8l/u/gyoxwrKVyWzQ",
      "include_colab_link": true
    },
    "kernelspec": {
      "name": "python3",
      "display_name": "Python 3"
    },
    "language_info": {
      "name": "python"
    }
  },
  "cells": [
    {
      "cell_type": "markdown",
      "metadata": {
        "id": "view-in-github",
        "colab_type": "text"
      },
      "source": [
        "<a href=\"https://colab.research.google.com/github/41371113h-xian/114-1/blob/main/HW_1.ipynb\" target=\"_parent\"><img src=\"https://colab.research.google.com/assets/colab-badge.svg\" alt=\"Open In Colab\"/></a>"
      ]
    },
    {
      "cell_type": "code",
      "execution_count": 1,
      "metadata": {
        "id": "O0Rvx44KXKC8",
        "outputId": "a4537032-18f8-431c-a396-57122433eb0c",
        "colab": {
          "base_uri": "https://localhost:8080/"
        }
      },
      "outputs": [
        {
          "output_type": "stream",
          "name": "stdout",
          "text": [
            "✅ 成功連線到 Google Sheet\n",
            "1️⃣ 日期：1\n",
            "2️⃣ 時間：2\n",
            "3️⃣ 品項：3\n",
            "4️⃣ 金額：\n",
            "✅ 已寫入 Google Sheet： ['1', '2', '3', '']\n"
          ]
        }
      ],
      "source": [
        "!pip install --quiet gspread gspread_dataframe google-auth-oauthlib\n",
        "\n",
        "import gspread\n",
        "from google.colab import auth\n",
        "from google.auth import default\n",
        "\n",
        "# 1️⃣ Colab 登入 Google 帳號\n",
        "auth.authenticate_user()\n",
        "\n",
        "# 2️⃣ 取得授權憑證\n",
        "creds, _ = default()\n",
        "gc = gspread.authorize(creds)\n",
        "\n",
        "# 3️⃣ 打開你的 Sheet\n",
        "sheet_url = \"https://docs.google.com/spreadsheets/d/1IoDPXfU7vTqloUcgFeEbd5_aoASIamXRFJ-WXq9ubtc/edit#gid=0\"\n",
        "sheet = gc.open_by_url(sheet_url).sheet1  # 第一個工作表\n",
        "\n",
        "print(\"✅ 成功連線到 Google Sheet\")\n",
        "\n",
        "# 4️⃣ 互動輸入四欄資料\n",
        "field1 = input(\"1️⃣ 日期：\")\n",
        "field2 = input(\"2️⃣ 時間：\")\n",
        "field3 = input(\"3️⃣ 品項：\")\n",
        "field4 = input(\"4️⃣ 金額：\")\n",
        "\n",
        "new_row = [field1, field2, field3, field4]\n",
        "\n",
        "# 5️⃣ 寫入 Sheet\n",
        "sheet.append_row(new_row, value_input_option=\"USER_ENTERED\")\n",
        "print(\"✅ 已寫入 Google Sheet：\", new_row)\n",
        "4"
      ]
    }
  ]
}