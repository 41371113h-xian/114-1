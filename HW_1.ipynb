{
  "nbformat": 4,
  "nbformat_minor": 0,
  "metadata": {
    "colab": {
      "provenance": [],
      "authorship_tag": "ABX9TyOfPVbVptp+yLzOL5xRmB7W",
      "include_colab_link": true
    },
    "kernelspec": {
      "name": "python3",
      "display_name": "Python 3"
    },
    "language_info": {
      "name": "python"
    }
  },
  "cells": [
    {
      "cell_type": "markdown",
      "metadata": {
        "id": "view-in-github",
        "colab_type": "text"
      },
      "source": [
        "<a href=\"https://colab.research.google.com/github/41371113h-xian/114-1/blob/main/HW_1.ipynb\" target=\"_parent\"><img src=\"https://colab.research.google.com/assets/colab-badge.svg\" alt=\"Open In Colab\"/></a>"
      ]
    },
    {
      "cell_type": "code",
      "execution_count": 1,
      "metadata": {
        "colab": {
          "base_uri": "https://localhost:8080/"
        },
        "id": "O0Rvx44KXKC8",
        "outputId": "f5a738d8-c14c-4a30-ca22-9e1e0e9602db"
      },
      "outputs": [
        {
          "output_type": "stream",
          "name": "stdout",
          "text": [
            "正在進行 Google 授權...\n",
            "✅ Google Sheets 連線成功！\n"
          ]
        }
      ],
      "source": [
        "# 1. 安裝 gspread 和 pandas 函式庫\n",
        "!pip install -q gspread pandas\n",
        "\n",
        "import gradio as gr\n",
        "import pandas as pd\n",
        "from datetime import datetime\n",
        "import gspread\n",
        "from google.colab import auth\n",
        "from google.auth import default\n",
        "\n",
        "# 2. 您的 Google Sheet 資訊 (從您提供的連結中擷取)\n",
        "# 試算表 ID\n",
        "SPREADSHEET_ID = '1IoDPXfU7vTqloUcgFeEbd5_aoASIamXRFJ-WXq9ubtc'\n",
        "# 工作表索引 (gid=0 通常是第一個工作表)\n",
        "WORKSHEET_INDEX = 0\n",
        "\n",
        "# ⚠️ 3. Google 帳號授權 (必須執行此步驟，點擊連結並完成授權)\n",
        "print(\"正在進行 Google 授權...\")\n",
        "auth.authenticate_user()\n",
        "# 取得授權憑證\n",
        "creds, _ = default()\n",
        "gc = gspread.authorize(creds)\n",
        "\n",
        "# 4. 連線到您的試算表和工作表\n",
        "try:\n",
        "    spreadsheet = gc.open_by_key(SPREADSHEET_ID)\n",
        "    worksheet = spreadsheet.get_worksheet(WORKSHEET_INDEX)\n",
        "    print(\"✅ Google Sheets 連線成功！\")\n",
        "except gspread.exceptions.SpreadsheetNotFound:\n",
        "    print(f\"❌ 錯誤：找不到 ID 為 {SPREADSHEET_ID} 的試算表。請檢查 ID 是否正確。\")\n",
        "except Exception as e:\n",
        "    # 這通常是因為權限不足。\n",
        "    print(f\"❌ 錯誤：連線或權限不足。請檢查您的 Google 試算表是否已開啟分享給您的 Google 帳號。\\n詳細錯誤: {e}\")\n",
        "\n",
        "# 預先載入資料以供 Gradio 介面初始顯示 (如果連線成功)\n",
        "if 'worksheet' in locals():\n",
        "    try:\n",
        "        data_records = worksheet.get_all_records()\n",
        "        df_expenses = pd.DataFrame(data_records)\n",
        "    except Exception as e:\n",
        "        print(f\"⚠️ 警告：讀取資料發生錯誤，可能試算表為空或欄位不正確。將使用空表格。錯誤: {e}\")\n",
        "        df_expenses = pd.DataFrame(columns=[\"Date\", \"Amount\", \"Category\", \"Description\"])\n",
        "else:\n",
        "    # 建立空的 DataFrame 以避免 Gradio 啟動錯誤\n",
        "    df_expenses = pd.DataFrame(columns=[\"Date\", \"Amount\", \"Category\", \"Description\"])\n",
        "\n",
        "# 設置 Dataframe，讓最新紀錄在最上面 (反轉順序)\n",
        "initial_df_display = df_expenses.iloc[::-1] if not df_expenses.empty else df_expenses"
      ]
    },
    {
      "cell_type": "code",
      "source": [
        "# --- Gradio 互動函式 ---\n",
        "\n",
        "def add_expense(amount: float, category: str, description: str):\n",
        "    \"\"\"\n",
        "    紀錄一筆新的開銷，並儲存到 Google Sheet 中。\n",
        "    \"\"\"\n",
        "    # 確保連線物件存在\n",
        "    if 'worksheet' not in globals():\n",
        "        return \"❌ 錯誤：未成功連線到 Google Sheet，請先執行步驟一。\", pd.DataFrame(columns=[\"Date\", \"Amount\", \"Category\", \"Description\"])\n",
        "\n",
        "    # 簡單驗證金額\n",
        "    if amount <= 0:\n",
        "        return \"❌ 錯誤：金額必須大於 0。\", view_expenses()[1]\n",
        "\n",
        "    # 取得當前日期\n",
        "    date = datetime.now().strftime(\"%Y-%m-%d\")\n",
        "\n",
        "    # 建立要新增的列資料 (必須與 Sheet 中的欄位順序一致)\n",
        "    new_row = [date, amount, category, description]\n",
        "\n",
        "    try:\n",
        "        # 使用 gspread 的 append_row 方法新增資料\n",
        "        worksheet.append_row(new_row, value_input_option='USER_ENTERED')\n",
        "\n",
        "        # 刷新並取得最新的資料\n",
        "        summary_text, updated_df = view_expenses()\n",
        "        return f\"✅ 成功紀錄: {category} - {amount} 元\\n{summary_text}\", updated_df\n",
        "\n",
        "    except Exception as e:\n",
        "        return f\"❌ 儲存到 Google Sheets 失敗: {e}\", view_expenses()[1]\n",
        "\n",
        "\n",
        "def view_expenses():\n",
        "    \"\"\"\n",
        "    從 Google Sheet 讀取所有開銷紀錄 (最新的在最上面)。\n",
        "    \"\"\"\n",
        "    if 'worksheet' not in globals():\n",
        "        return \"❌ 錯誤：未成功連線到 Google Sheet，請先執行步驟一。\", pd.DataFrame(columns=[\"Date\", \"Amount\", \"Category\", \"Description\"])\n",
        "\n",
        "    try:\n",
        "        # 讀取所有帶有標頭的紀錄。⚠️ 您的試算表第一列必須是欄位名稱！\n",
        "        data_records = worksheet.get_all_records()\n",
        "        df = pd.DataFrame(data_records)\n",
        "\n",
        "        if df.empty:\n",
        "            return \"目前沒有開銷紀錄。\", pd.DataFrame(columns=[\"Date\", \"Amount\", \"Category\", \"Description\"])\n",
        "\n",
        "        # 計算總開銷\n",
        "        if 'Amount' in df.columns:\n",
        "            # 轉換為數字型態\n",
        "            df['Amount'] = pd.to_numeric(df['Amount'], errors='coerce')\n",
        "            df.dropna(subset=['Amount'], inplace=True)\n",
        "            total_spent = df[\"Amount\"].sum()\n",
        "        else:\n",
        "            total_spent = 0.0\n",
        "\n",
        "        # 返回總計資訊和反轉順序的 DataFrame (最新紀錄在最上)\n",
        "        return f\"總開銷：{total_spent:.2f} 元\", df.iloc[::-1]\n",
        "\n",
        "    except Exception as e:\n",
        "        return f\"❌ 讀取 Google Sheets 失敗: {e}\", pd.DataFrame(columns=[\"Date\", \"Amount\", \"Category\", \"Description\"])\n",
        "\n",
        "# --- Gradio 介面設定 ---\n",
        "\n",
        "# 預設的開銷類別選項\n",
        "categories = [\n",
        "    \"食物/餐飲\",\n",
        "    \"交通\",\n",
        "    \"娛樂\",\n",
        "    \"日常用品\",\n",
        "    \"帳單/費用\",\n",
        "    \"其他\"\n",
        "]\n",
        "\n",
        "with gr.Blocks(title=\"Google Sheets 開銷紀錄器\") as demo:\n",
        "    gr.Markdown(\"# 🔗 Google Sheets 日常開銷紀錄器\")\n",
        "\n",
        "    # 紀錄開銷 Tab\n",
        "    with gr.Tab(\"紀錄開銷\"):\n",
        "        with gr.Row():\n",
        "            amount_input = gr.Number(label=\"金額 (元)\", minimum=0.01)\n",
        "            category_input = gr.Dropdown(categories, label=\"類別\", value=categories[0])\n",
        "\n",
        "        description_input = gr.Textbox(label=\"描述/備註\", placeholder=\"例如：午餐便當、捷運車票\")\n",
        "\n",
        "        record_button = gr.Button(\"新增開銷\", variant=\"primary\")\n",
        "        status_output = gr.Label(label=\"狀態\")\n",
        "\n",
        "    # 查看開銷 Tab\n",
        "    with gr.Tab(\"查看所有開銷\"):\n",
        "        view_button = gr.Button(\"重新整理開銷紀錄\", variant=\"secondary\")\n",
        "\n",
        "        summary_output = gr.Label(label=\"開銷總結\")\n",
        "\n",
        "        dataframe_output = gr.DataFrame(\n",
        "            value=initial_df_display, # 初始顯示步驟一載入的資料\n",
        "            headers=[\"日期\", \"金額\", \"類別\", \"描述\"],\n",
        "            wrap=True,\n",
        "            interactive=False,\n",
        "            label=\"所有開銷紀錄 (最新在最上)\"\n",
        "        )\n",
        "\n",
        "    # --- 互動邏輯 ---\n",
        "    record_button.click(\n",
        "        fn=add_expense,\n",
        "        inputs=[amount_input, category_input, description_input],\n",
        "        outputs=[status_output, dataframe_output]\n",
        "    )\n",
        "\n",
        "    view_button.click(\n",
        "        fn=view_expenses,\n",
        "        inputs=[],\n",
        "        outputs=[summary_output, dataframe_output]\n",
        "    )\n",
        "\n",
        "    # 介面初始載入時也執行一次查看\n",
        "    demo.load(\n",
        "        fn=view_expenses,\n",
        "        outputs=[summary_output, dataframe_output]\n",
        "    )\n",
        "\n",
        "# 啟動 Gradio 介面 (share=True 會提供一個公開連結)\n",
        "demo.launch(share=True)"
      ],
      "metadata": {
        "colab": {
          "base_uri": "https://localhost:8080/",
          "height": 610
        },
        "id": "nA_-jYelDsqJ",
        "outputId": "f434f935-b4e9-427d-dfd2-6e4207adf891"
      },
      "execution_count": 2,
      "outputs": [
        {
          "output_type": "stream",
          "name": "stdout",
          "text": [
            "Colab notebook detected. To show errors in colab notebook, set debug=True in launch()\n",
            "* Running on public URL: https://b29d3a039acc12f06b.gradio.live\n",
            "\n",
            "This share link expires in 1 week. For free permanent hosting and GPU upgrades, run `gradio deploy` from the terminal in the working directory to deploy to Hugging Face Spaces (https://huggingface.co/spaces)\n"
          ]
        },
        {
          "output_type": "display_data",
          "data": {
            "text/plain": [
              "<IPython.core.display.HTML object>"
            ],
            "text/html": [
              "<div><iframe src=\"https://b29d3a039acc12f06b.gradio.live\" width=\"100%\" height=\"500\" allow=\"autoplay; camera; microphone; clipboard-read; clipboard-write;\" frameborder=\"0\" allowfullscreen></iframe></div>"
            ]
          },
          "metadata": {}
        },
        {
          "output_type": "execute_result",
          "data": {
            "text/plain": []
          },
          "metadata": {},
          "execution_count": 2
        }
      ]
    }
  ]
}